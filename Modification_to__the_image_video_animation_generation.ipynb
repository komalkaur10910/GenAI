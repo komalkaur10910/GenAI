{
  "nbformat": 4,
  "nbformat_minor": 0,
  "metadata": {
    "colab": {
      "provenance": [],
      "include_colab_link": true
    },
    "kernelspec": {
      "name": "python3",
      "display_name": "Python 3"
    },
    "language_info": {
      "name": "python"
    }
  },
  "cells": [
    {
      "cell_type": "markdown",
      "metadata": {
        "id": "view-in-github",
        "colab_type": "text"
      },
      "source": [
        "<a href=\"https://colab.research.google.com/github/komalkaur10910/GenAI/blob/main/Modification_to__the_image_video_animation_generation.ipynb\" target=\"_parent\"><img src=\"https://colab.research.google.com/assets/colab-badge.svg\" alt=\"Open In Colab\"/></a>"
      ]
    },
    {
      "cell_type": "markdown",
      "source": [
        "# **Replicate's Image and GIF Generative AI Project**\n",
        "\n",
        "# **Brief description of the Project scope :**\n",
        "\n",
        "The project scope includes integrating Replicate's Image and GIF Generative AI to allow users to produce diverse and visually appealing material using AI-driven procedures. Understanding Replicate's model capabilities, easy API interaction, and the creation of an intuitive user interface for prompt-based content generating are all part of this.\n",
        "\n",
        "\n",
        "\n",
        "\n",
        "\n",
        "\n",
        "\n",
        "\n"
      ],
      "metadata": {
        "id": "ZWRrPYjU-FnH"
      }
    },
    {
      "cell_type": "markdown",
      "source": [
        "# **Group Members :**\n",
        "\n",
        "\n",
        "* KOMALPREET KAUR - 4331198\n",
        "\n",
        "\n",
        "* MANPREET KAUR - 4345108\n",
        "\n"
      ],
      "metadata": {
        "id": "8ugcCz4l9POS"
      }
    },
    {
      "cell_type": "markdown",
      "source": [
        "# **Detailed Project Description**\n",
        "\n",
        "The Replicate library will be used to create a dynamic GenAI GIF and Image Generator for this project. It will understand verbal prompts using complex language models to produce unique and innovative visual content, providing a dynamic platform for personalized picture and GIF production.\n",
        "\n",
        "\n",
        "## **OBJECTIVES** :\n",
        "- The project aims to comprehensively integrate Replicate's Image and GIF Generative AI by understanding and optimizing model capabilities.\n",
        "- Objectives include seamless API integration, ensuring efficient prompt handling, and developing an intuitive user interface.\n",
        "- The goal is to empower users to generate diverse, high-quality content, highlighting the innovation and versatility of Replicate's AI models in the realm of visual storytelling and creative expression.\n",
        "\n",
        "\n",
        "\n",
        "\n",
        "\n",
        "## **EXPECTED OUTCOMES**\n",
        "The Replicate's Image and GIF Generative AI project's desired results include the seamless integration of AI models, creating a user-friendly environment. Replicate's adaptability will be demonstrated through quick prompt-based content generation. Users are asked to create original visual content that demonstrates the innovative potential of Replicate's AI models in a variety of creative applications (modified and paraphrased from the original response).\n",
        "\n",
        "\n",
        "\n",
        "\n",
        "\n",
        "\n",
        "\n",
        "\n",
        "\n"
      ],
      "metadata": {
        "id": "SJNvsyvv-jM1"
      }
    },
    {
      "cell_type": "markdown",
      "source": [
        "# **Modification/New Addition Specification**\n",
        "\n",
        "- The project will incorporate enhancements to Replicate's Image and GIF Generative AI, focusing on refining model capabilities and optimizing API interactions.\n",
        "- New additions include advanced prompt handling for more nuanced content generation.\n",
        "- The user interface will be further refined for an intuitive experience. These modifications aim to elevate the project's functionality and user engagement while showcasing Replicate's evolving AI capabilities in image and GIF creation.\n",
        "\n",
        "## **Justification And Impact**\n",
        "\n",
        "- These modifications and additions aim to elevate the project's impact by enhancing Replicate's AI capabilities.\n",
        "- Improved model refinement and advanced prompt handling contribute to a more nuanced and personalized content creation experience.\n",
        "-  The refined user interface ensures accessibility. Collectively, these modifications strengthen Replicate's position as a versatile tool for creative expression, expanding its impact on users seeking innovative and tailored visual storytelling through images and GIFs.\n",
        "\n",
        "\n"
      ],
      "metadata": {
        "id": "DDwC-cRK2C_x"
      }
    },
    {
      "cell_type": "markdown",
      "source": [
        "# **Criteria-Specific Cell**\n",
        "\n",
        "## **Replicate's Image and GIF Generative AI project relevance:**\n",
        "\n",
        "- The project's relevance lies in meeting the growing demand for innovative AI-driven content creation.\n",
        "-  By leveraging Replicate's Image and GIF Generative AI, it addresses diverse user needs in creative fields, marketing, and education.\n",
        "-  The project serves as a significant contribution to the evolving landscape of AI-powered visual content generation, showcasing Replicate's role in fostering creativity and efficiency in the digital content creation process.ing to a more vibrant and engaging digital landscape.content creation.\n",
        "\n",
        "##**Application**\n",
        "- The application for Replicate's Image and GIF Generative AI project extends across creative industries, marketing, and educational sectors.\n",
        "- It empowers users to effortlessly generate diverse visual content tailored to their needs.\n",
        "- This versatile tool streamlines content creation processes, fostering innovation in digital storytelling and artistic expression while showcasing the practical utility of Replicate's advanced AI capabilities.\n",
        "\n",
        "## **Innovation**\n",
        "\n",
        "\n",
        "\n",
        "- Innovation in Replicate's Image and GIF Generative AI project manifests through its transformative approach to content creation.\n",
        "- Leveraging cutting-edge AI models, it revolutionizes visual storytelling. Advanced algorithms, refined prompt handling, and an intuitive interface provide users with unprecedented creative avenues.\n",
        "- This innovation marks a significant leap forward, showcasing Replicate's commitment to pushing the boundaries of generative art and enhancing the creative landscape.\n",
        "\n",
        "## **Technical proficiency**\n",
        "\n",
        "- Achieving technical proficiency in the Replicate's Image and GIF Generative AI project involves mastering the integration of Replicate API.\n",
        "- It encompasses a thorough understanding of AI model configurations within Replicate, optimizing API calls, and implementing prompt-based user interactions.\n",
        "- Proficiency extends to managing API responses, handling errors, and ensuring seamless functionality, demonstrating expertise in Replicate's advanced AI tools."
      ],
      "metadata": {
        "id": "6cfvQgVYFl6W"
      }
    },
    {
      "cell_type": "markdown",
      "source": [
        "# **1.Installing the Replicate library to provide a smooth integration of the project environment.**\n",
        "\n",
        "The given code uses the pip package manager to install the \"Replicate\" library. It is a short and effective approach to bring Replicate to the Python environment, allowing users to enjoy its features immediately.\n"
      ],
      "metadata": {
        "id": "vKzL0U3a6wlx"
      }
    },
    {
      "cell_type": "code",
      "execution_count": null,
      "metadata": {
        "colab": {
          "base_uri": "https://localhost:8080/"
        },
        "id": "CjlbJnxO2w-h",
        "outputId": "7046a7df-2b88-4bed-c4b2-c194c09bd444"
      },
      "outputs": [
        {
          "output_type": "stream",
          "name": "stdout",
          "text": [
            "Collecting replicate\n",
            "  Downloading replicate-0.21.0-py3-none-any.whl (34 kB)\n",
            "Collecting httpx<1,>=0.21.0 (from replicate)\n",
            "  Downloading httpx-0.25.2-py3-none-any.whl (74 kB)\n",
            "\u001b[2K     \u001b[90m━━━━━━━━━━━━━━━━━━━━━━━━━━━━━━━━━━━━━━━━\u001b[0m \u001b[32m75.0/75.0 kB\u001b[0m \u001b[31m4.5 MB/s\u001b[0m eta \u001b[36m0:00:00\u001b[0m\n",
            "\u001b[?25hRequirement already satisfied: packaging in /usr/local/lib/python3.10/dist-packages (from replicate) (23.2)\n",
            "Requirement already satisfied: pydantic>1 in /usr/local/lib/python3.10/dist-packages (from replicate) (1.10.13)\n",
            "Requirement already satisfied: typing-extensions>=4.5.0 in /usr/local/lib/python3.10/dist-packages (from replicate) (4.5.0)\n",
            "Requirement already satisfied: anyio in /usr/local/lib/python3.10/dist-packages (from httpx<1,>=0.21.0->replicate) (3.7.1)\n",
            "Requirement already satisfied: certifi in /usr/local/lib/python3.10/dist-packages (from httpx<1,>=0.21.0->replicate) (2023.11.17)\n",
            "Collecting httpcore==1.* (from httpx<1,>=0.21.0->replicate)\n",
            "  Downloading httpcore-1.0.2-py3-none-any.whl (76 kB)\n",
            "\u001b[2K     \u001b[90m━━━━━━━━━━━━━━━━━━━━━━━━━━━━━━━━━━━━━━━━\u001b[0m \u001b[32m76.9/76.9 kB\u001b[0m \u001b[31m5.7 MB/s\u001b[0m eta \u001b[36m0:00:00\u001b[0m\n",
            "\u001b[?25hRequirement already satisfied: idna in /usr/local/lib/python3.10/dist-packages (from httpx<1,>=0.21.0->replicate) (3.6)\n",
            "Requirement already satisfied: sniffio in /usr/local/lib/python3.10/dist-packages (from httpx<1,>=0.21.0->replicate) (1.3.0)\n",
            "Collecting h11<0.15,>=0.13 (from httpcore==1.*->httpx<1,>=0.21.0->replicate)\n",
            "  Downloading h11-0.14.0-py3-none-any.whl (58 kB)\n",
            "\u001b[2K     \u001b[90m━━━━━━━━━━━━━━━━━━━━━━━━━━━━━━━━━━━━━━━━\u001b[0m \u001b[32m58.3/58.3 kB\u001b[0m \u001b[31m8.3 MB/s\u001b[0m eta \u001b[36m0:00:00\u001b[0m\n",
            "\u001b[?25hRequirement already satisfied: exceptiongroup in /usr/local/lib/python3.10/dist-packages (from anyio->httpx<1,>=0.21.0->replicate) (1.2.0)\n",
            "Installing collected packages: h11, httpcore, httpx, replicate\n",
            "Successfully installed h11-0.14.0 httpcore-1.0.2 httpx-0.25.2 replicate-0.21.0\n"
          ]
        }
      ],
      "source": [
        "# @title Install Replicate\n",
        "!pip install replicate\n"
      ]
    },
    {
      "cell_type": "markdown",
      "source": [
        "# **2.Providing the environment with a Replicate API token for secure access, enabling for the implementation of cutting-edge AI technologies..**\n",
        "\n",
        "This code sample authenticates using the Replicate API token. The supplied API key is given to the environment variable \"REPLICATE_API_TOKEN,\" providing safe access to Replicate services. For authentication reasons, users can receive their API key from Replicate's website.\n",
        "\n"
      ],
      "metadata": {
        "id": "-EtGiSrD69zX"
      }
    },
    {
      "cell_type": "code",
      "source": [
        "API = \"r8_Xe0MJJE8BUVr4kQUkhBBzMfuhgAMozA0rYe4u\"\n",
        "import os\n",
        "\n",
        "os.environ[\"REPLICATE_API_TOKEN\"] = API #find it here: https://replicate.com/signin?next=/account/api-tokens\n"
      ],
      "metadata": {
        "id": "zX0YyZI_3dx6"
      },
      "execution_count": null,
      "outputs": []
    },
    {
      "cell_type": "markdown",
      "source": [
        "# **3.Using Replicate's stable-diffusion model to generate an image in response to the command - a sports car is running**\n",
        "\n",
        "\n",
        "The Replicate library is used in this code to produce a picture based on the instruction \"a sports car is running.\"\n",
        "\n",
        "It generates visual material using the stated model (stability-ai/stable-diffusion), demonstrating Replicate's capacity in creative picture production."
      ],
      "metadata": {
        "id": "sH5YFxFX7NVP"
      }
    },
    {
      "cell_type": "code",
      "source": [
        "# @title Generate Image\n",
        "prompt = \"a sports car is running\"\n",
        "import replicate\n",
        "\n",
        "output = replicate.run(\n",
        "  \"stability-ai/stable-diffusion:27b93a2413e7f36cd83da926f3656280b2931564ff050bf9575f1fdf9bcd7478\",\n",
        "  input={\"prompt\":prompt}\n",
        ")\n",
        "\n",
        "output"
      ],
      "metadata": {
        "colab": {
          "base_uri": "https://localhost:8080/"
        },
        "id": "b9jB54-K3p48",
        "outputId": "7f7bb659-0534-41e8-e2b4-557cc18e4d75"
      },
      "execution_count": null,
      "outputs": [
        {
          "output_type": "execute_result",
          "data": {
            "text/plain": [
              "['https://replicate.delivery/pbxt/K4VYdSLBOt67OVRxW2rzr90v6kv9engnEyRmRPsraXwZuWfRA/out-0.png']"
            ]
          },
          "metadata": {},
          "execution_count": 4
        }
      ]
    },
    {
      "cell_type": "markdown",
      "source": [
        "# **4.Using IPython's picture class to display a Replicate-generated image in Jupyter Notebook for visual examination..**\n",
        "\n",
        "Using IPython, this code displays the created picture saved in the variable 'output_image'. It makes use of the 'Image' function to graphically portray the outcome, providing an easy way to demonstrate the output of the Replicate image generating process within the Jupyter Notebook environment.\n",
        "\n"
      ],
      "metadata": {
        "id": "kw6QYycd7SVR"
      }
    },
    {
      "cell_type": "code",
      "source": [
        "\n",
        "from IPython.display import Image\n",
        "output_image = output\n",
        "Image(url=output_image[0])"
      ],
      "metadata": {
        "colab": {
          "base_uri": "https://localhost:8080/",
          "height": 534
        },
        "id": "7JWCVDHf3sYu",
        "outputId": "b66b5031-1027-4861-d23e-7cac67208949"
      },
      "execution_count": null,
      "outputs": [
        {
          "output_type": "execute_result",
          "data": {
            "text/html": [
              "<img src=\"https://replicate.delivery/pbxt/K4VYdSLBOt67OVRxW2rzr90v6kv9engnEyRmRPsraXwZuWfRA/out-0.png\"/>"
            ],
            "text/plain": [
              "<IPython.core.display.Image object>"
            ]
          },
          "metadata": {},
          "execution_count": 5
        }
      ]
    },
    {
      "cell_type": "markdown",
      "source": [
        "# **5.Using duplicate to create a dynamic gif animation that transitions from \"a sports car is running\" to \"the sports car is drifting\"**\n",
        "\n",
        "The Replicate library is used in this code snippet to make a GIF or animation.\n",
        "\n",
        "It uses the \"andreasjansson/stable-diffusion-animation\" paradigm to move from a sleeping cat prompt to one displaying an aroused cat with eyes wide and yawning, resulting in a dynamic visual output."
      ],
      "metadata": {
        "id": "U4dvFuOo7oxG"
      }
    },
    {
      "cell_type": "code",
      "source": [
        "# @title Video/gif/animation/Generation\n",
        "import replicate\n",
        "\n",
        "output = replicate.run(\n",
        "    \"andreasjansson/stable-diffusion-animation:ca1f5e306e5721e19c473e0d094e6603f0456fe759c10715fcd6c1b79242d4a5\",\n",
        "    input={\n",
        "        \"prompt_start\": \"a sports car is running\",\n",
        "        \"prompt_end\": \"the sports car is drifting\",\n",
        "        \"output_format\": \"gif\",\n",
        "        \"gif_ping_pong\": True\n",
        "    }\n",
        ")\n",
        "\n",
        "output\n"
      ],
      "metadata": {
        "colab": {
          "base_uri": "https://localhost:8080/"
        },
        "id": "6Owfxz0V3uov",
        "outputId": "e7a57df1-552d-4048-f7f1-e1e3f0c2e8d9"
      },
      "execution_count": null,
      "outputs": [
        {
          "output_type": "execute_result",
          "data": {
            "text/plain": [
              "<generator object Prediction.output_iterator at 0x7eb3c37e57e0>"
            ]
          },
          "metadata": {},
          "execution_count": 7
        }
      ]
    },
    {
      "cell_type": "markdown",
      "source": [
        "# **6.This code loops over the output items and prints information about each one.**\n",
        "This method iterates over the output items, retrieving and publishing the information of each element and creating references to data or metadata connected with the constructed animation. The linked link provides more information about the output schema.\n"
      ],
      "metadata": {
        "id": "5G1iqzb-76Jo"
      }
    },
    {
      "cell_type": "code",
      "source": [
        "# @title generate video\n",
        "for item in output:\n",
        "     #https://replicate.com/andreasjansson/stable-diffusion-animation/versions/ca1f5e306e5721e19c473e0d094e6603f0456fe759c10715fcd6c1b79242d4a5/api#output-schema\n",
        "    print(item)"
      ],
      "metadata": {
        "colab": {
          "base_uri": "https://localhost:8080/"
        },
        "id": "1bkyp74E3wcl",
        "outputId": "7f81ba6d-d260-433e-dcd5-d68ef301419a"
      },
      "execution_count": null,
      "outputs": [
        {
          "output_type": "stream",
          "name": "stdout",
          "text": [
            "https://replicate.delivery/pbxt/obfabVxduvzNGykw19hWQ9R1rowaw13Ekmcof0WkGwYYrtejA/video.gif\n"
          ]
        }
      ]
    },
    {
      "cell_type": "markdown",
      "source": [
        "## **7.In a Colab environment, this code declares the variable 'gif_url', which stores the URL of the generated movie.**\n",
        "**\n",
        "\n",
        "In a Colab environment, this code generates a variable, gif_url, to contain the URL of the generated movie. It enables accessing the video for subsequent use or sharing within the Colab notebook easier.\n",
        "\n"
      ],
      "metadata": {
        "id": "WK4etb_78Jq2"
      }
    },
    {
      "cell_type": "code",
      "source": [
        "\n",
        "# @title get the video on colab\n",
        "gif_url= item[0:len(item)]"
      ],
      "metadata": {
        "id": "exOI3-Rd3yn8"
      },
      "execution_count": null,
      "outputs": []
    },
    {
      "cell_type": "markdown",
      "source": [
        "# **8.This code fetches and displays a GIF from the supplied URL before saving it locally in Colab for further use.**\n",
        "It also saves the video to the Colab environment as \"gif_output.gif\" and uses the PIL library to retrieve the stored GIF. If the fetch procedure fails, an appropriate notice is printed."
      ],
      "metadata": {
        "id": "0J2u0K738Mk1"
      }
    },
    {
      "cell_type": "code",
      "source": [
        "# @title Show the video\n",
        "import requests\n",
        "from IPython.display import display, Image\n",
        "from PIL import Image as PILImage\n",
        "from io import BytesIO\n",
        "response = requests.get(gif_url)\n",
        "if response.status_code == 200:\n",
        "    # To Ddisplay the GIF in the notebook\n",
        "    display(Image(url=gif_url))\n",
        "\n",
        "    # To save the GIF in the Colab environment\n",
        "    with open(\"gif_output.gif\", \"wb\") as f:\n",
        "        f.write(response.content)\n",
        "\n",
        "    # TO show a saved GIF using PIL\n",
        "    saved_gif = PILImage.open(\"gif_output.gif\")\n",
        "    saved_gif.show()\n",
        "else:\n",
        "    print(\"Failed to fetch GIF\")\n"
      ],
      "metadata": {
        "colab": {
          "base_uri": "https://localhost:8080/",
          "height": 534
        },
        "id": "whx-a5Ne319x",
        "outputId": "ab1f1a44-a7bb-4b5a-c1a0-4c802daa1f2a",
        "cellView": "form"
      },
      "execution_count": null,
      "outputs": [
        {
          "output_type": "display_data",
          "data": {
            "text/html": [
              "<img src=\"https://replicate.delivery/pbxt/obfabVxduvzNGykw19hWQ9R1rowaw13Ekmcof0WkGwYYrtejA/video.gif\"/>"
            ],
            "text/plain": [
              "<IPython.core.display.Image object>"
            ]
          },
          "metadata": {}
        }
      ]
    },
    {
      "cell_type": "markdown",
      "source": [
        "# **REFERENCES**\n",
        "\n",
        "* Turna https://github.com/turna1/GenAI\n",
        "\n",
        "\n",
        "* Replicate.https://replicate.com/account/api-tokens\n",
        "\n",
        "* Google Colaboratory. https://colab.research.google.com/\n"
      ],
      "metadata": {
        "id": "gdi6nuQbG9U6"
      }
    },
    {
      "cell_type": "markdown",
      "source": [
        "https://drive.google.com/file/d/1rqZkxlqr7c4i_JNiMBmubiQhLA3m6M6V/view?usp=drivesdk\n",
        "# **VIDEO PRESENTATION LINK**"
      ],
      "metadata": {
        "id": "NnHs-jd0HCvd"
      }
    },
    {
      "cell_type": "markdown",
      "source": [
        "\n",
        "# **Thank You**\n",
        "\n"
      ],
      "metadata": {
        "id": "HyYFTY6SLLok"
      }
    }
  ]
}